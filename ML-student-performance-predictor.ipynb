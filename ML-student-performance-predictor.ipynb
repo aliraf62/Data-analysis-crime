{
 "cells": [
  {
   "cell_type": "markdown",
   "id": "5c7792cc",
   "metadata": {},
   "source": [
    "Import necessary libraries"
   ]
  },
  {
   "cell_type": "code",
   "execution_count": 1,
   "metadata": {},
   "outputs": [],
   "source": [
    "import pandas as pd\n",
    "import seaborn as sns\n",
    "import plotly_express as px\n",
    "\n",
    "import matplotlib.pyplot as plt\n",
    "\n",
    "import warnings\n",
    "\n",
    "warnings.filterwarnings('ignore')"
   ]
  },
  {
   "cell_type": "markdown",
   "metadata": {},
   "source": [
    "\n",
    "# Section 1: Data Loading\n",
    "Load the crime data and filter it for the years 2008 to 2012."
   ]
  },
  {
   "cell_type": "code",
   "execution_count": 2,
   "id": "92fc3b63",
   "metadata": {},
   "outputs": [
    {
     "data": {
      "text/html": [
       "<div>\n",
       "<style scoped>\n",
       "    .dataframe tbody tr th:only-of-type {\n",
       "        vertical-align: middle;\n",
       "    }\n",
       "\n",
       "    .dataframe tbody tr th {\n",
       "        vertical-align: top;\n",
       "    }\n",
       "\n",
       "    .dataframe thead th {\n",
       "        text-align: right;\n",
       "    }\n",
       "</style>\n",
       "<table border=\"1\" class=\"dataframe\">\n",
       "  <thead>\n",
       "    <tr style=\"text-align: right;\">\n",
       "      <th></th>\n",
       "      <th>ID</th>\n",
       "      <th>Case Number</th>\n",
       "      <th>Date</th>\n",
       "      <th>Block</th>\n",
       "      <th>IUCR</th>\n",
       "      <th>Primary Type</th>\n",
       "      <th>Description</th>\n",
       "      <th>Location Description</th>\n",
       "      <th>Arrest</th>\n",
       "      <th>Domestic</th>\n",
       "      <th>...</th>\n",
       "      <th>Ward</th>\n",
       "      <th>Community Area</th>\n",
       "      <th>FBI Code</th>\n",
       "      <th>X Coordinate</th>\n",
       "      <th>Y Coordinate</th>\n",
       "      <th>Year</th>\n",
       "      <th>Updated On</th>\n",
       "      <th>Latitude</th>\n",
       "      <th>Longitude</th>\n",
       "      <th>Location</th>\n",
       "    </tr>\n",
       "  </thead>\n",
       "  <tbody>\n",
       "    <tr>\n",
       "      <th>9</th>\n",
       "      <td>11645833</td>\n",
       "      <td>JC213044</td>\n",
       "      <td>2012-05-05 12:25:00</td>\n",
       "      <td>057XX W OHIO ST</td>\n",
       "      <td>1153</td>\n",
       "      <td>DECEPTIVE PRACTICE</td>\n",
       "      <td>FINANCIAL IDENTITY THEFT OVER $ 300</td>\n",
       "      <td>NaN</td>\n",
       "      <td>False</td>\n",
       "      <td>False</td>\n",
       "      <td>...</td>\n",
       "      <td>29.0</td>\n",
       "      <td>25.0</td>\n",
       "      <td>11</td>\n",
       "      <td>NaN</td>\n",
       "      <td>NaN</td>\n",
       "      <td>2012</td>\n",
       "      <td>04/06/2019 04:04:43 PM</td>\n",
       "      <td>NaN</td>\n",
       "      <td>NaN</td>\n",
       "      <td>NaN</td>\n",
       "    </tr>\n",
       "    <tr>\n",
       "      <th>24</th>\n",
       "      <td>11646447</td>\n",
       "      <td>JC213946</td>\n",
       "      <td>2008-10-24 14:30:00</td>\n",
       "      <td>036XX N NARRAGANSETT AVE</td>\n",
       "      <td>1153</td>\n",
       "      <td>DECEPTIVE PRACTICE</td>\n",
       "      <td>FINANCIAL IDENTITY THEFT OVER $ 300</td>\n",
       "      <td>APARTMENT</td>\n",
       "      <td>False</td>\n",
       "      <td>False</td>\n",
       "      <td>...</td>\n",
       "      <td>36.0</td>\n",
       "      <td>17.0</td>\n",
       "      <td>11</td>\n",
       "      <td>NaN</td>\n",
       "      <td>NaN</td>\n",
       "      <td>2008</td>\n",
       "      <td>04/07/2019 04:05:59 PM</td>\n",
       "      <td>NaN</td>\n",
       "      <td>NaN</td>\n",
       "      <td>NaN</td>\n",
       "    </tr>\n",
       "    <tr>\n",
       "      <th>33</th>\n",
       "      <td>11031104</td>\n",
       "      <td>JA362043</td>\n",
       "      <td>2008-07-24 00:01:00</td>\n",
       "      <td>031XX W FILLMORE ST</td>\n",
       "      <td>1563</td>\n",
       "      <td>SEX OFFENSE</td>\n",
       "      <td>CRIMINAL SEXUAL ABUSE</td>\n",
       "      <td>APARTMENT</td>\n",
       "      <td>False</td>\n",
       "      <td>True</td>\n",
       "      <td>...</td>\n",
       "      <td>24.0</td>\n",
       "      <td>29.0</td>\n",
       "      <td>17</td>\n",
       "      <td>NaN</td>\n",
       "      <td>NaN</td>\n",
       "      <td>2008</td>\n",
       "      <td>07/26/2017 03:56:50 PM</td>\n",
       "      <td>NaN</td>\n",
       "      <td>NaN</td>\n",
       "      <td>NaN</td>\n",
       "    </tr>\n",
       "    <tr>\n",
       "      <th>50</th>\n",
       "      <td>11648237</td>\n",
       "      <td>JC216157</td>\n",
       "      <td>2012-01-01 12:00:00</td>\n",
       "      <td>115XX S CAMPBELL AVE</td>\n",
       "      <td>1153</td>\n",
       "      <td>DECEPTIVE PRACTICE</td>\n",
       "      <td>FINANCIAL IDENTITY THEFT OVER $ 300</td>\n",
       "      <td>RESIDENCE</td>\n",
       "      <td>False</td>\n",
       "      <td>False</td>\n",
       "      <td>...</td>\n",
       "      <td>19.0</td>\n",
       "      <td>75.0</td>\n",
       "      <td>11</td>\n",
       "      <td>NaN</td>\n",
       "      <td>NaN</td>\n",
       "      <td>2012</td>\n",
       "      <td>04/09/2019 04:24:58 PM</td>\n",
       "      <td>NaN</td>\n",
       "      <td>NaN</td>\n",
       "      <td>NaN</td>\n",
       "    </tr>\n",
       "    <tr>\n",
       "      <th>53</th>\n",
       "      <td>11648822</td>\n",
       "      <td>JC216887</td>\n",
       "      <td>2011-12-13 00:00:00</td>\n",
       "      <td>115XX S MARSHFIELD AVE</td>\n",
       "      <td>1153</td>\n",
       "      <td>DECEPTIVE PRACTICE</td>\n",
       "      <td>FINANCIAL IDENTITY THEFT OVER $ 300</td>\n",
       "      <td>ATHLETIC CLUB</td>\n",
       "      <td>False</td>\n",
       "      <td>False</td>\n",
       "      <td>...</td>\n",
       "      <td>34.0</td>\n",
       "      <td>75.0</td>\n",
       "      <td>11</td>\n",
       "      <td>NaN</td>\n",
       "      <td>NaN</td>\n",
       "      <td>2011</td>\n",
       "      <td>04/09/2019 04:24:58 PM</td>\n",
       "      <td>NaN</td>\n",
       "      <td>NaN</td>\n",
       "      <td>NaN</td>\n",
       "    </tr>\n",
       "  </tbody>\n",
       "</table>\n",
       "<p>5 rows × 22 columns</p>\n",
       "</div>"
      ],
      "text/plain": [
       "          ID Case Number                Date                     Block  IUCR  \\\n",
       "9   11645833    JC213044 2012-05-05 12:25:00           057XX W OHIO ST  1153   \n",
       "24  11646447    JC213946 2008-10-24 14:30:00  036XX N NARRAGANSETT AVE  1153   \n",
       "33  11031104    JA362043 2008-07-24 00:01:00       031XX W FILLMORE ST  1563   \n",
       "50  11648237    JC216157 2012-01-01 12:00:00      115XX S CAMPBELL AVE  1153   \n",
       "53  11648822    JC216887 2011-12-13 00:00:00    115XX S MARSHFIELD AVE  1153   \n",
       "\n",
       "          Primary Type                          Description  \\\n",
       "9   DECEPTIVE PRACTICE  FINANCIAL IDENTITY THEFT OVER $ 300   \n",
       "24  DECEPTIVE PRACTICE  FINANCIAL IDENTITY THEFT OVER $ 300   \n",
       "33         SEX OFFENSE                CRIMINAL SEXUAL ABUSE   \n",
       "50  DECEPTIVE PRACTICE  FINANCIAL IDENTITY THEFT OVER $ 300   \n",
       "53  DECEPTIVE PRACTICE  FINANCIAL IDENTITY THEFT OVER $ 300   \n",
       "\n",
       "   Location Description  Arrest  Domestic  ...  Ward  Community Area  \\\n",
       "9                   NaN   False     False  ...  29.0            25.0   \n",
       "24            APARTMENT   False     False  ...  36.0            17.0   \n",
       "33            APARTMENT   False      True  ...  24.0            29.0   \n",
       "50            RESIDENCE   False     False  ...  19.0            75.0   \n",
       "53        ATHLETIC CLUB   False     False  ...  34.0            75.0   \n",
       "\n",
       "    FBI Code  X Coordinate Y Coordinate  Year              Updated On  \\\n",
       "9         11           NaN          NaN  2012  04/06/2019 04:04:43 PM   \n",
       "24        11           NaN          NaN  2008  04/07/2019 04:05:59 PM   \n",
       "33        17           NaN          NaN  2008  07/26/2017 03:56:50 PM   \n",
       "50        11           NaN          NaN  2012  04/09/2019 04:24:58 PM   \n",
       "53        11           NaN          NaN  2011  04/09/2019 04:24:58 PM   \n",
       "\n",
       "    Latitude Longitude  Location  \n",
       "9        NaN       NaN       NaN  \n",
       "24       NaN       NaN       NaN  \n",
       "33       NaN       NaN       NaN  \n",
       "50       NaN       NaN       NaN  \n",
       "53       NaN       NaN       NaN  \n",
       "\n",
       "[5 rows x 22 columns]"
      ]
     },
     "execution_count": 2,
     "metadata": {},
     "output_type": "execute_result"
    }
   ],
   "source": [
    "\n",
    "# Load the crime data\n",
    "crime_data_path = 'chicago_crime.csv'  # Placeholder path\n",
    "crime_df = pd.read_csv(crime_data_path)\n",
    "\n",
    "# Filter the crime data for the years 2008 to 2012\n",
    "crime_df['Date'] = pd.to_datetime(crime_df['Date'])\n",
    "crime_df = crime_df[crime_df['Date'].dt.year.isin(range(2008, 2013))]\n",
    "\n",
    "# Display the first few rows of the crime data\n",
    "crime_df.head()\n"
   ]
  },
  {
   "cell_type": "code",
   "execution_count": 4,
   "metadata": {},
   "outputs": [
    {
     "ename": "KeyError",
     "evalue": "'Date'",
     "output_type": "error",
     "traceback": [
      "\u001b[1;31m---------------------------------------------------------------------------\u001b[0m",
      "\u001b[1;31mKeyError\u001b[0m                                  Traceback (most recent call last)",
      "File \u001b[1;32mc:\\Python312\\Lib\\site-packages\\pandas\\core\\indexes\\base.py:3790\u001b[0m, in \u001b[0;36mIndex.get_loc\u001b[1;34m(self, key)\u001b[0m\n\u001b[0;32m   3789\u001b[0m \u001b[39mtry\u001b[39;00m:\n\u001b[1;32m-> 3790\u001b[0m     \u001b[39mreturn\u001b[39;00m \u001b[39mself\u001b[39;49m\u001b[39m.\u001b[39;49m_engine\u001b[39m.\u001b[39;49mget_loc(casted_key)\n\u001b[0;32m   3791\u001b[0m \u001b[39mexcept\u001b[39;00m \u001b[39mKeyError\u001b[39;00m \u001b[39mas\u001b[39;00m err:\n",
      "File \u001b[1;32mindex.pyx:152\u001b[0m, in \u001b[0;36mpandas._libs.index.IndexEngine.get_loc\u001b[1;34m()\u001b[0m\n",
      "File \u001b[1;32mindex.pyx:181\u001b[0m, in \u001b[0;36mpandas._libs.index.IndexEngine.get_loc\u001b[1;34m()\u001b[0m\n",
      "File \u001b[1;32mpandas\\_libs\\hashtable_class_helper.pxi:7080\u001b[0m, in \u001b[0;36mpandas._libs.hashtable.PyObjectHashTable.get_item\u001b[1;34m()\u001b[0m\n",
      "File \u001b[1;32mpandas\\_libs\\hashtable_class_helper.pxi:7088\u001b[0m, in \u001b[0;36mpandas._libs.hashtable.PyObjectHashTable.get_item\u001b[1;34m()\u001b[0m\n",
      "\u001b[1;31mKeyError\u001b[0m: 'Date'",
      "\nThe above exception was the direct cause of the following exception:\n",
      "\u001b[1;31mKeyError\u001b[0m                                  Traceback (most recent call last)",
      "\u001b[1;32mc:\\Users\\alira\\OneDrive\\Documents\\AI-ML\\3_Databehandling\\IndividueltProjekt_Chicago\\AliRafieefar_AIML_databehandling_individProjekt_Chicago.ipynb Cell 5\u001b[0m line \u001b[0;36m6\n\u001b[0;32m      <a href='vscode-notebook-cell:/c%3A/Users/alira/OneDrive/Documents/AI-ML/3_Databehandling/IndividueltProjekt_Chicago/AliRafieefar_AIML_databehandling_individProjekt_Chicago.ipynb#X21sZmlsZQ%3D%3D?line=2'>3</a>\u001b[0m census_df \u001b[39m=\u001b[39m pd\u001b[39m.\u001b[39mread_csv(census_data_path)\n\u001b[0;32m      <a href='vscode-notebook-cell:/c%3A/Users/alira/OneDrive/Documents/AI-ML/3_Databehandling/IndividueltProjekt_Chicago/AliRafieefar_AIML_databehandling_individProjekt_Chicago.ipynb#X21sZmlsZQ%3D%3D?line=4'>5</a>\u001b[0m \u001b[39m# Filter the crime data for the years 2008 to 2012\u001b[39;00m\n\u001b[1;32m----> <a href='vscode-notebook-cell:/c%3A/Users/alira/OneDrive/Documents/AI-ML/3_Databehandling/IndividueltProjekt_Chicago/AliRafieefar_AIML_databehandling_individProjekt_Chicago.ipynb#X21sZmlsZQ%3D%3D?line=5'>6</a>\u001b[0m census_df_df[\u001b[39m'\u001b[39m\u001b[39mDate\u001b[39m\u001b[39m'\u001b[39m] \u001b[39m=\u001b[39m pd\u001b[39m.\u001b[39mto_datetime(census_df[\u001b[39m'\u001b[39;49m\u001b[39mDate\u001b[39;49m\u001b[39m'\u001b[39;49m])\n\u001b[0;32m      <a href='vscode-notebook-cell:/c%3A/Users/alira/OneDrive/Documents/AI-ML/3_Databehandling/IndividueltProjekt_Chicago/AliRafieefar_AIML_databehandling_individProjekt_Chicago.ipynb#X21sZmlsZQ%3D%3D?line=6'>7</a>\u001b[0m census_df \u001b[39m=\u001b[39m census_df[census_df[\u001b[39m'\u001b[39m\u001b[39mDate\u001b[39m\u001b[39m'\u001b[39m]\u001b[39m.\u001b[39mdt\u001b[39m.\u001b[39myear\u001b[39m.\u001b[39misin(\u001b[39mrange\u001b[39m(\u001b[39m2008\u001b[39m, \u001b[39m2013\u001b[39m))]\n\u001b[0;32m      <a href='vscode-notebook-cell:/c%3A/Users/alira/OneDrive/Documents/AI-ML/3_Databehandling/IndividueltProjekt_Chicago/AliRafieefar_AIML_databehandling_individProjekt_Chicago.ipynb#X21sZmlsZQ%3D%3D?line=8'>9</a>\u001b[0m \u001b[39m# Display the first few rows of the crime data\u001b[39;00m\n",
      "File \u001b[1;32mc:\\Python312\\Lib\\site-packages\\pandas\\core\\frame.py:3893\u001b[0m, in \u001b[0;36mDataFrame.__getitem__\u001b[1;34m(self, key)\u001b[0m\n\u001b[0;32m   3891\u001b[0m \u001b[39mif\u001b[39;00m \u001b[39mself\u001b[39m\u001b[39m.\u001b[39mcolumns\u001b[39m.\u001b[39mnlevels \u001b[39m>\u001b[39m \u001b[39m1\u001b[39m:\n\u001b[0;32m   3892\u001b[0m     \u001b[39mreturn\u001b[39;00m \u001b[39mself\u001b[39m\u001b[39m.\u001b[39m_getitem_multilevel(key)\n\u001b[1;32m-> 3893\u001b[0m indexer \u001b[39m=\u001b[39m \u001b[39mself\u001b[39;49m\u001b[39m.\u001b[39;49mcolumns\u001b[39m.\u001b[39;49mget_loc(key)\n\u001b[0;32m   3894\u001b[0m \u001b[39mif\u001b[39;00m is_integer(indexer):\n\u001b[0;32m   3895\u001b[0m     indexer \u001b[39m=\u001b[39m [indexer]\n",
      "File \u001b[1;32mc:\\Python312\\Lib\\site-packages\\pandas\\core\\indexes\\base.py:3797\u001b[0m, in \u001b[0;36mIndex.get_loc\u001b[1;34m(self, key)\u001b[0m\n\u001b[0;32m   3792\u001b[0m     \u001b[39mif\u001b[39;00m \u001b[39misinstance\u001b[39m(casted_key, \u001b[39mslice\u001b[39m) \u001b[39mor\u001b[39;00m (\n\u001b[0;32m   3793\u001b[0m         \u001b[39misinstance\u001b[39m(casted_key, abc\u001b[39m.\u001b[39mIterable)\n\u001b[0;32m   3794\u001b[0m         \u001b[39mand\u001b[39;00m \u001b[39many\u001b[39m(\u001b[39misinstance\u001b[39m(x, \u001b[39mslice\u001b[39m) \u001b[39mfor\u001b[39;00m x \u001b[39min\u001b[39;00m casted_key)\n\u001b[0;32m   3795\u001b[0m     ):\n\u001b[0;32m   3796\u001b[0m         \u001b[39mraise\u001b[39;00m InvalidIndexError(key)\n\u001b[1;32m-> 3797\u001b[0m     \u001b[39mraise\u001b[39;00m \u001b[39mKeyError\u001b[39;00m(key) \u001b[39mfrom\u001b[39;00m \u001b[39merr\u001b[39;00m\n\u001b[0;32m   3798\u001b[0m \u001b[39mexcept\u001b[39;00m \u001b[39mTypeError\u001b[39;00m:\n\u001b[0;32m   3799\u001b[0m     \u001b[39m# If we have a listlike key, _check_indexing_error will raise\u001b[39;00m\n\u001b[0;32m   3800\u001b[0m     \u001b[39m#  InvalidIndexError. Otherwise we fall through and re-raise\u001b[39;00m\n\u001b[0;32m   3801\u001b[0m     \u001b[39m#  the TypeError.\u001b[39;00m\n\u001b[0;32m   3802\u001b[0m     \u001b[39mself\u001b[39m\u001b[39m.\u001b[39m_check_indexing_error(key)\n",
      "\u001b[1;31mKeyError\u001b[0m: 'Date'"
     ]
    }
   ],
   "source": [
    "# Load the census data\n",
    "census_data_path = 'chicago_census.csv'  # Placeholder path\n",
    "census_df = pd.read_csv(census_data_path)\n",
    "\n",
    "# Filter the crime data for the years 2008 to 2012\n",
    "census_df_df['Date'] = pd.to_datetime(census_df['Date'])\n",
    "census_df = census_df[census_df['Date'].dt.year.isin(range(2008, 2013))]\n",
    "\n",
    "# Display the first few rows of the crime data\n",
    "census_df.head()\n"
   ]
  },
  {
   "cell_type": "markdown",
   "metadata": {},
   "source": [
    "#section 1: alternative 2 for better memory handling of the huge crime file.\n",
    "Here I use data chunks, dtypes, parse_dates and usecols. \n",
    "Data chunks makes it more manageable for the system.\n",
    "Knowing dtypes of data, I specify it to the columns while loading the data to optimize memory usage. \n",
    "parse_dates parameter is used to parse the date column while loading the data, and usecols to load only the necessary columns. This will reduce memory usage."
   ]
  },
  {
   "cell_type": "code",
   "execution_count": null,
   "metadata": {},
   "outputs": [],
   "source": [
    "'''import pandas as pd\n",
    "\n",
    "# Define the file path\n",
    "crime_data_path = 'chicago_crime.csv'\n",
    "\n",
    "# Define the columns needed\n",
    "useful_columns = ['Date', 'Primary Type', 'Description', ...]  # and others if we need it can be added here\n",
    "\n",
    "# Create an empty DataFrame to hold filtered data\n",
    "filtered_crime_df = pd.DataFrame()\n",
    "\n",
    "# Read the file in chunks\n",
    "chunk_size = 100000  # chunks can be adjusted if we have more ram\n",
    "for chunk in pd.read_csv(crime_data_path, chunksize=chunk_size, usecols=useful_columns, parse_dates=['Date']):\n",
    "    filtered_chunk = chunk[chunk['Date'].dt.year.isin(range(2008, 2013))]\n",
    "    filtered_crime_df = pd.concat([filtered_crime_df, filtered_chunk])\n",
    "\n",
    "# Display the first few rows of the filtered data\n",
    "filtered_crime_df.head()'''\n"
   ]
  },
  {
   "cell_type": "markdown",
   "id": "064d25f3",
   "metadata": {},
   "source": [
    "# Section 2: Basic Data Exploration\n",
    "\n",
    "Explore the types of crimes and their frequencies in the crime data, and explore the socioeconomic indicators in the census data."
   ]
  },
  {
   "cell_type": "code",
   "execution_count": 3,
   "id": "4127df95",
   "metadata": {},
   "outputs": [
    {
     "ename": "NameError",
     "evalue": "name 'census_df' is not defined",
     "output_type": "error",
     "traceback": [
      "\u001b[1;31m---------------------------------------------------------------------------\u001b[0m",
      "\u001b[1;31mNameError\u001b[0m                                 Traceback (most recent call last)",
      "\u001b[1;32mc:\\Users\\alira\\OneDrive\\Documents\\AI-ML\\3_Databehandling\\IndividueltProjekt_Chicago\\AliRafieefar_AIML_databehandling_individProjekt_Chicago.ipynb Cell 8\u001b[0m line \u001b[0;36m7\n\u001b[0;32m      <a href='vscode-notebook-cell:/c%3A/Users/alira/OneDrive/Documents/AI-ML/3_Databehandling/IndividueltProjekt_Chicago/AliRafieefar_AIML_databehandling_individProjekt_Chicago.ipynb#W6sZmlsZQ%3D%3D?line=3'>4</a>\u001b[0m crime_types \u001b[39m=\u001b[39m crime_df[\u001b[39m'\u001b[39m\u001b[39mPrimary Type\u001b[39m\u001b[39m'\u001b[39m]\u001b[39m.\u001b[39mvalue_counts()\n\u001b[0;32m      <a href='vscode-notebook-cell:/c%3A/Users/alira/OneDrive/Documents/AI-ML/3_Databehandling/IndividueltProjekt_Chicago/AliRafieefar_AIML_databehandling_individProjekt_Chicago.ipynb#W6sZmlsZQ%3D%3D?line=5'>6</a>\u001b[0m \u001b[39m# Census Data: Exploring socioeconomic indicators\u001b[39;00m\n\u001b[1;32m----> <a href='vscode-notebook-cell:/c%3A/Users/alira/OneDrive/Documents/AI-ML/3_Databehandling/IndividueltProjekt_Chicago/AliRafieefar_AIML_databehandling_individProjekt_Chicago.ipynb#W6sZmlsZQ%3D%3D?line=6'>7</a>\u001b[0m census_summary \u001b[39m=\u001b[39m census_df\u001b[39m.\u001b[39mdescribe()\n",
      "\u001b[1;31mNameError\u001b[0m: name 'census_df' is not defined"
     ]
    }
   ],
   "source": [
    "\n",
    "# Basic exploration of the datasets\n",
    "\n",
    "# Crime Data: Exploring the types of crimes and their frequencies\n",
    "crime_types = crime_df['Primary Type'].value_counts()\n",
    "\n",
    "# Census Data: Exploring socioeconomic indicators\n",
    "census_summary = census_df.describe()\n"
   ]
  },
  {
   "cell_type": "markdown",
   "id": "3d6b2cd2",
   "metadata": {},
   "source": [
    "# Section 3: Advanced Data Analysis\n",
    "\n",
    "Perform time series analysis of crime trends and correlate crime with socioeconomic indicators."
   ]
  },
  {
   "cell_type": "code",
   "execution_count": 5,
   "id": "6019c440",
   "metadata": {},
   "outputs": [
    {
     "ename": "ValueError",
     "evalue": "Cannot subset columns with a tuple with more than one element. Use a list instead.",
     "output_type": "error",
     "traceback": [
      "\u001b[1;31m---------------------------------------------------------------------------\u001b[0m",
      "\u001b[1;31mValueError\u001b[0m                                Traceback (most recent call last)",
      "\u001b[1;32mc:\\Users\\alira\\OneDrive\\Documents\\AI-ML\\3_Databehandling\\IndividueltProjekt_Chicago\\AliRafieefar_AIML_databehandling_individProjekt_Chicago.ipynb Cell 11\u001b[0m line \u001b[0;36m1\n\u001b[0;32m      <a href='vscode-notebook-cell:/c%3A/Users/alira/OneDrive/Documents/AI-ML/3_Databehandling/IndividueltProjekt_Chicago/AliRafieefar_AIML_databehandling_individProjekt_Chicago.ipynb#X11sZmlsZQ%3D%3D?line=7'>8</a>\u001b[0m merged_df \u001b[39m=\u001b[39m pd\u001b[39m.\u001b[39mmerge(crime_df, census_df, left_on\u001b[39m=\u001b[39m\u001b[39m'\u001b[39m\u001b[39mCommunity Area\u001b[39m\u001b[39m'\u001b[39m, right_on\u001b[39m=\u001b[39m\u001b[39m'\u001b[39m\u001b[39mCommunity Area Number\u001b[39m\u001b[39m'\u001b[39m, how\u001b[39m=\u001b[39m\u001b[39m'\u001b[39m\u001b[39mleft\u001b[39m\u001b[39m'\u001b[39m)\n\u001b[0;32m     <a href='vscode-notebook-cell:/c%3A/Users/alira/OneDrive/Documents/AI-ML/3_Databehandling/IndividueltProjekt_Chicago/AliRafieefar_AIML_databehandling_individProjekt_Chicago.ipynb#X11sZmlsZQ%3D%3D?line=9'>10</a>\u001b[0m \u001b[39m# Analysis of crime types with respect to socioeconomic factors like poverty and unemployment\u001b[39;00m\n\u001b[1;32m---> <a href='vscode-notebook-cell:/c%3A/Users/alira/OneDrive/Documents/AI-ML/3_Databehandling/IndividueltProjekt_Chicago/AliRafieefar_AIML_databehandling_individProjekt_Chicago.ipynb#X11sZmlsZQ%3D%3D?line=10'>11</a>\u001b[0m crime_socioeconomic_analysis \u001b[39m=\u001b[39m merged_df\u001b[39m.\u001b[39;49mgroupby(\u001b[39m'\u001b[39;49m\u001b[39mPrimary Type\u001b[39;49m\u001b[39m'\u001b[39;49m)[\u001b[39m'\u001b[39;49m\u001b[39mPERCENT HOUSEHOLDS BELOW POVERTY\u001b[39;49m\u001b[39m'\u001b[39;49m, \u001b[39m'\u001b[39;49m\u001b[39mPERCENT AGED 16+ UNEMPLOYED\u001b[39;49m\u001b[39m'\u001b[39;49m]\u001b[39m.\u001b[39mmean()\n",
      "File \u001b[1;32mc:\\Python312\\Lib\\site-packages\\pandas\\core\\groupby\\generic.py:1960\u001b[0m, in \u001b[0;36mDataFrameGroupBy.__getitem__\u001b[1;34m(self, key)\u001b[0m\n\u001b[0;32m   1956\u001b[0m \u001b[39m# per GH 23566\u001b[39;00m\n\u001b[0;32m   1957\u001b[0m \u001b[39mif\u001b[39;00m \u001b[39misinstance\u001b[39m(key, \u001b[39mtuple\u001b[39m) \u001b[39mand\u001b[39;00m \u001b[39mlen\u001b[39m(key) \u001b[39m>\u001b[39m \u001b[39m1\u001b[39m:\n\u001b[0;32m   1958\u001b[0m     \u001b[39m# if len == 1, then it becomes a SeriesGroupBy and this is actually\u001b[39;00m\n\u001b[0;32m   1959\u001b[0m     \u001b[39m# valid syntax, so don't raise\u001b[39;00m\n\u001b[1;32m-> 1960\u001b[0m     \u001b[39mraise\u001b[39;00m \u001b[39mValueError\u001b[39;00m(\n\u001b[0;32m   1961\u001b[0m         \u001b[39m\"\u001b[39m\u001b[39mCannot subset columns with a tuple with more than one element. \u001b[39m\u001b[39m\"\u001b[39m\n\u001b[0;32m   1962\u001b[0m         \u001b[39m\"\u001b[39m\u001b[39mUse a list instead.\u001b[39m\u001b[39m\"\u001b[39m\n\u001b[0;32m   1963\u001b[0m     )\n\u001b[0;32m   1964\u001b[0m \u001b[39mreturn\u001b[39;00m \u001b[39msuper\u001b[39m()\u001b[39m.\u001b[39m\u001b[39m__getitem__\u001b[39m(key)\n",
      "\u001b[1;31mValueError\u001b[0m: Cannot subset columns with a tuple with more than one element. Use a list instead."
     ]
    }
   ],
   "source": [
    "\n",
    "# Advanced analysis of crime trends and socioeconomic factors\n",
    "\n",
    "# Time Series Analysis: Crime trends over the years 2008-2012\n",
    "crime_trends = crime_df.groupby(crime_df['Date'].dt.year).size()\n",
    "\n",
    "# Socioeconomic Analysis: Correlating crime with socioeconomic indicators\n",
    "# Merging crime and census data on community area\n",
    "merged_df = pd.merge(crime_df, census_df, left_on='Community Area', right_on='Community Area Number', how='left')\n",
    "\n",
    "# Analysis of crime types with respect to socioeconomic factors like poverty and unemployment\n",
    "crime_socioeconomic_analysis = merged_df.groupby('Primary Type')['PERCENT HOUSEHOLDS BELOW POVERTY', 'PERCENT AGED 16+ UNEMPLOYED'].mean()\n"
   ]
  },
  {
   "cell_type": "markdown",
   "id": "2e3ab4b9",
   "metadata": {},
   "source": [
    "# Section 4: Data Visualization\n",
    "\n",
    "Visualize crime trends and the relationship between crime types and poverty level."
   ]
  },
  {
   "cell_type": "code",
   "execution_count": 6,
   "id": "e37a71dc",
   "metadata": {},
   "outputs": [
    {
     "ename": "NameError",
     "evalue": "name 'crime_socioeconomic_analysis' is not defined",
     "output_type": "error",
     "traceback": [
      "\u001b[1;31m---------------------------------------------------------------------------\u001b[0m",
      "\u001b[1;31mNameError\u001b[0m                                 Traceback (most recent call last)",
      "\u001b[1;32mc:\\Users\\alira\\OneDrive\\Documents\\AI-ML\\3_Databehandling\\IndividueltProjekt_Chicago\\AliRafieefar_AIML_databehandling_individProjekt_Chicago.ipynb Cell 13\u001b[0m line \u001b[0;36m1\n\u001b[0;32m     <a href='vscode-notebook-cell:/c%3A/Users/alira/OneDrive/Documents/AI-ML/3_Databehandling/IndividueltProjekt_Chicago/AliRafieefar_AIML_databehandling_individProjekt_Chicago.ipynb#X13sZmlsZQ%3D%3D?line=10'>11</a>\u001b[0m \u001b[39m# Visualizing the relationship between crime types and poverty\u001b[39;00m\n\u001b[0;32m     <a href='vscode-notebook-cell:/c%3A/Users/alira/OneDrive/Documents/AI-ML/3_Databehandling/IndividueltProjekt_Chicago/AliRafieefar_AIML_databehandling_individProjekt_Chicago.ipynb#X13sZmlsZQ%3D%3D?line=11'>12</a>\u001b[0m \u001b[39mimport\u001b[39;00m \u001b[39mseaborn\u001b[39;00m \u001b[39mas\u001b[39;00m \u001b[39msns\u001b[39;00m\n\u001b[1;32m---> <a href='vscode-notebook-cell:/c%3A/Users/alira/OneDrive/Documents/AI-ML/3_Databehandling/IndividueltProjekt_Chicago/AliRafieefar_AIML_databehandling_individProjekt_Chicago.ipynb#X13sZmlsZQ%3D%3D?line=12'>13</a>\u001b[0m sns\u001b[39m.\u001b[39mbarplot(x\u001b[39m=\u001b[39mcrime_socioeconomic_analysis[\u001b[39m'\u001b[39m\u001b[39mPERCENT HOUSEHOLDS BELOW POVERTY\u001b[39m\u001b[39m'\u001b[39m], y\u001b[39m=\u001b[39mcrime_socioeconomic_analysis\u001b[39m.\u001b[39mindex)\n\u001b[0;32m     <a href='vscode-notebook-cell:/c%3A/Users/alira/OneDrive/Documents/AI-ML/3_Databehandling/IndividueltProjekt_Chicago/AliRafieefar_AIML_databehandling_individProjekt_Chicago.ipynb#X13sZmlsZQ%3D%3D?line=13'>14</a>\u001b[0m plt\u001b[39m.\u001b[39mtitle(\u001b[39m'\u001b[39m\u001b[39mCrime Types vs. Poverty Level\u001b[39m\u001b[39m'\u001b[39m)\n",
      "\u001b[1;31mNameError\u001b[0m: name 'crime_socioeconomic_analysis' is not defined"
     ]
    },
    {
     "data": {
      "image/png": "[encoded data removed]",
      "text/plain": [
       "<Figure size 1000x600 with 1 Axes>"
      ]
     },
     "metadata": {},
     "output_type": "display_data"
    }
   ],
   "source": [
    "\n",
    "# Data Visualization\n",
    "\n",
    "# Visualizing crime trends\n",
    "import matplotlib.pyplot as plt\n",
    "plt.figure(figsize=(10, 6))\n",
    "plt.plot(crime_trends)\n",
    "plt.title('Crime Trends in Chicago (2008-2012)')\n",
    "plt.xlabel('Year')\n",
    "plt.ylabel('Number of Crimes')\n",
    "\n",
    "# Visualizing the relationship between crime types and poverty\n",
    "import seaborn as sns\n",
    "sns.barplot(x=crime_socioeconomic_analysis['PERCENT HOUSEHOLDS BELOW POVERTY'], y=crime_socioeconomic_analysis.index)\n",
    "plt.title('Crime Types vs. Poverty Level')\n"
   ]
  },
  {
   "cell_type": "markdown",
   "id": "02460983",
   "metadata": {},
   "source": [
    "# Section 5: Reflection and Further Analysis\n",
    "\n",
    "Reflection on the analysis, further questions, and potential improvements."
   ]
  },
  {
   "cell_type": "code",
   "execution_count": null,
   "id": "b5032a4d",
   "metadata": {},
   "outputs": [],
   "source": [
    "\n",
    "# Reflection and further analysis based on the findings\n",
    "\n",
    "# Reflection on the reliability of the conclusions drawn from the analysis\n",
    "# Further questions that can be explored based on the analysis\n",
    "# Potential improvements in methodology or data handling\n"
   ]
  }
 ],
 "metadata": {
  "kernelspec": {
   "display_name": "Python 3",
   "language": "python",
   "name": "python3"
  },
  "language_info": {
   "codemirror_mode": {
    "name": "ipython",
    "version": 3
   },
   "file_extension": ".py",
   "mimetype": "text/x-python",
   "name": "python",
   "nbconvert_exporter": "python",
   "pygments_lexer": "ipython3",
   "version": "3.12.0"
  }
 },
 "nbformat": 4,
 "nbformat_minor": 5
}
